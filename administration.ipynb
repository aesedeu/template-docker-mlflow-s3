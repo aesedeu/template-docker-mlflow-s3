{
 "cells": [
  {
   "cell_type": "code",
   "execution_count": 1,
   "metadata": {},
   "outputs": [
    {
     "ename": "ModuleNotFoundError",
     "evalue": "No module named 'mlflow'",
     "output_type": "error",
     "traceback": [
      "\u001b[0;31m---------------------------------------------------------------------------\u001b[0m",
      "\u001b[0;31mModuleNotFoundError\u001b[0m                       Traceback (most recent call last)",
      "Cell \u001b[0;32mIn[1], line 11\u001b[0m\n\u001b[1;32m      7\u001b[0m \u001b[38;5;28;01mfrom\u001b[39;00m \u001b[38;5;21;01msklearn\u001b[39;00m\u001b[38;5;21;01m.\u001b[39;00m\u001b[38;5;21;01mmetrics\u001b[39;00m \u001b[38;5;28;01mimport\u001b[39;00m accuracy_score, log_loss, roc_auc_score, precision_score, recall_score\n\u001b[1;32m      8\u001b[0m \u001b[38;5;28;01mfrom\u001b[39;00m \u001b[38;5;21;01msklearn\u001b[39;00m\u001b[38;5;21;01m.\u001b[39;00m\u001b[38;5;21;01mpreprocessing\u001b[39;00m \u001b[38;5;28;01mimport\u001b[39;00m StandardScaler\n\u001b[0;32m---> 11\u001b[0m \u001b[38;5;28;01mimport\u001b[39;00m \u001b[38;5;21;01mmlflow\u001b[39;00m\n\u001b[1;32m     12\u001b[0m \u001b[38;5;28;01mfrom\u001b[39;00m \u001b[38;5;21;01mmlflow\u001b[39;00m\u001b[38;5;21;01m.\u001b[39;00m\u001b[38;5;21;01mmodels\u001b[39;00m \u001b[38;5;28;01mimport\u001b[39;00m infer_signature\n\u001b[1;32m     13\u001b[0m \u001b[38;5;28;01mfrom\u001b[39;00m \u001b[38;5;21;01mmlflow\u001b[39;00m \u001b[38;5;28;01mimport\u001b[39;00m MlflowClient\n",
      "\u001b[0;31mModuleNotFoundError\u001b[0m: No module named 'mlflow'"
     ]
    }
   ],
   "source": [
    "import pandas as pd\n",
    "import numpy as np\n",
    "import os\n",
    "from sklearn.datasets import make_regression, make_classification\n",
    "from sklearn.model_selection import train_test_split\n",
    "from sklearn.linear_model import LinearRegression, LogisticRegression\n",
    "from sklearn.metrics import accuracy_score, log_loss, roc_auc_score, precision_score, recall_score\n",
    "from sklearn.preprocessing import StandardScaler\n",
    "\n",
    "\n",
    "import mlflow\n",
    "from mlflow.models import infer_signature\n",
    "from mlflow import MlflowClient\n",
    "from mlflow.server import get_app_client\n",
    "from mlflow.server.auth.client import AuthServiceClient\n",
    "\n",
    "# from bulkboto3 import BulkBoto3\n",
    "from dotenv import load_dotenv\n",
    "load_dotenv()\n",
    "\n",
    "import yaml\n",
    "import boto3\n",
    "import pickle\n",
    "import warnings\n",
    "import datetime as dt\n",
    "warnings.filterwarnings('ignore')\n",
    "\n",
    "os.environ['AWS_ACCESS_KEY_ID'] = \"admin\" # логин от s3\n",
    "os.environ['AWS_SECRET_ACCESS_KEY'] = \"23wesdxc\" # пароль от s3\n",
    "os.environ['MLFLOW_S3_ENDPOINT_URL'] = \"http://10.229.8.165:8000\" # адрес s3\n",
    "os.environ['MLFLOW_TRACKING_USERNAME'] = \"admin\" # логин MLFlow\n",
    "os.environ['MLFLOW_TRACKING_PASSWORD'] = \"23wesdxc\" # пароль MLFlow \n",
    "\n",
    "# Подключение к MLFlow\n",
    "mlflow.set_tracking_uri(uri=\"http://10.229.8.165:8080\")\n",
    "\n",
    "# # Подключение к s3\n",
    "# session = boto3.session.Session()\n",
    "# s3 = session.client(\n",
    "#     service_name='s3',\n",
    "#     endpoint_url=os.environ['MLFLOW_S3_ENDPOINT_URL']\n",
    "# )\n",
    "\n",
    "config = yaml.safe_load(open(\"./config.yaml\"))"
   ]
  },
  {
   "cell_type": "markdown",
   "metadata": {},
   "source": [
    "# s3"
   ]
  },
  {
   "cell_type": "code",
   "execution_count": null,
   "metadata": {},
   "outputs": [],
   "source": [
    "session = boto3.session.Session()\n",
    "s3 = session.client(service_name=\"s3\", endpoint_url=\"http://10.229.8.165:8000\")"
   ]
  },
  {
   "cell_type": "code",
   "execution_count": null,
   "metadata": {},
   "outputs": [
    {
     "data": {
      "text/plain": [
       "[{'Name': 'data-storage',\n",
       "  'CreationDate': datetime.datetime(2025, 1, 27, 3, 6, 50, 543000, tzinfo=tzutc())},\n",
       " {'Name': 'mlflow-bucket',\n",
       "  'CreationDate': datetime.datetime(2025, 1, 27, 3, 5, 35, 589000, tzinfo=tzutc())}]"
      ]
     },
     "metadata": {},
     "output_type": "display_data"
    }
   ],
   "source": [
    "# Список бакетов\n",
    "s3.list_buckets()[\"Buckets\"]"
   ]
  },
  {
   "cell_type": "code",
   "execution_count": null,
   "metadata": {},
   "outputs": [
    {
     "name": "stdout",
     "output_type": "stream",
     "text": [
      "sales-prdict/files/md5/08/627c764eca5865daa5d571bfc0212b\n",
      "sales-prdict/files/md5/08/890787676cacd7220c50d22cc767e8\n",
      "sales-prdict/files/md5/09/abaa3dd779abd5e8b1a0b7789b23dc\n",
      "sales-prdict/files/md5/15/5f8139ddf794a44a219c08962373e5\n",
      "sales-prdict/files/md5/1b/500a059053e6987609632281ce82bf\n",
      "sales-prdict/files/md5/5c/93426469e642198413a5ab942b002b\n",
      "sales-prdict/files/md5/63/15056c6be10d94783424d1bbc4531e\n",
      "sales-prdict/files/md5/64/bb69506a28500156edfa2aecb1ee55\n",
      "sales-prdict/files/md5/68/39d616157acd1543b79317ca71a8ca\n",
      "sales-prdict/files/md5/6a/18dc43b61949df98458b5c8e174a1c\n",
      "sales-prdict/files/md5/6d/94ec66d00a28ea7043ea46e78fd341\n",
      "sales-prdict/files/md5/8e/be1d40d330553942e6f50a2f051c9c\n",
      "sales-prdict/files/md5/91/14abb25908017d6b5774fd6af9eb66\n",
      "sales-prdict/files/md5/a1/1b8ba67641b03d0c2525e813e99498\n",
      "sales-prdict/files/md5/a4/b1183bb077d328857ec2b03d89c4f5\n",
      "sales-prdict/files/md5/af/8e7eb07ae3b935bb324b29845b8b9f\n",
      "sales-prdict/files/md5/b1/417254ba7eba061083e7005f9d12db.dir\n",
      "sales-prdict/files/md5/b6/47149401f353f83fa535e26b13a625\n",
      "sales-prdict/files/md5/bf/d826efd1c6b7ea024acf4556fc63b9\n",
      "sales-prdict/files/md5/c0/469cc2700a2adddf622436ada54686\n",
      "sales-prdict/files/md5/c4/0d2a33dd4332e05b9cbfe3e7669bb1\n",
      "sales-prdict/files/md5/cf/60ebc7b89f061e7716cbb67e3e9f52\n",
      "sales-prdict/files/md5/d7/56b8a6b6a27d9144def8ac60278d27\n",
      "sales-prdict/files/md5/d8/85bbd9974c4441c8441d405723a843\n",
      "sales-prdict/files/md5/dc/7167ef61c6bd7fe193ab1e83c539f7\n"
     ]
    }
   ],
   "source": [
    "# Показать файлы в бакете\n",
    "bucket_name = \"data-storage\"\n",
    "\n",
    "for key in s3.list_objects(Bucket=bucket_name)[\"Contents\"]:\n",
    "    print(key[\"Key\"])"
   ]
  },
  {
   "cell_type": "markdown",
   "metadata": {},
   "source": [
    "## Администрирование MLFlow"
   ]
  },
  {
   "cell_type": "code",
   "execution_count": null,
   "metadata": {},
   "outputs": [],
   "source": [
    "from mlflow.server.auth.client import AuthServiceClient\n",
    "\n",
    "os.environ['MLFLOW_TRACKING_USERNAME'] = \"admin\" # логин MLFlow\n",
    "os.environ['MLFLOW_TRACKING_PASSWORD'] = \"imk14f53\" # пароль MLFlow\n",
    "client = AuthServiceClient(os.getenv(\"MLFLOW_TRACKING_URI\"))"
   ]
  },
  {
   "cell_type": "code",
   "execution_count": null,
   "metadata": {},
   "outputs": [
    {
     "ename": "MlflowException",
     "evalue": "API request to endpoint /api/2.0/mlflow/users/get failed with error code 404 != 200. Response body: '<!doctype html>\n<html lang=en>\n<title>404 Not Found</title>\n<h1>Not Found</h1>\n<p>The requested URL was not found on the server. If you entered the URL manually please check your spelling and try again.</p>\n'",
     "output_type": "error",
     "traceback": [
      "\u001b[0;31m---------------------------------------------------------------------------\u001b[0m\n",
      "\u001b[0;31mMlflowException\u001b[0m                           Traceback (most recent call last)\n",
      "Cell \u001b[0;32mIn[5], line 1\u001b[0m\n",
      "\u001b[0;32m----> 1\u001b[0m user \u001b[38;5;241m=\u001b[39m \u001b[43mclient\u001b[49m\u001b[38;5;241;43m.\u001b[39;49m\u001b[43mget_user\u001b[49m\u001b[43m(\u001b[49m\u001b[38;5;124;43m\"\u001b[39;49m\u001b[38;5;124;43madmin\u001b[39;49m\u001b[38;5;124;43m\"\u001b[39;49m\u001b[43m)\u001b[49m\n",
      "\u001b[1;32m      2\u001b[0m \u001b[38;5;28mprint\u001b[39m(\u001b[38;5;124mf\u001b[39m\u001b[38;5;124m\"\u001b[39m\u001b[38;5;124muser_id: \u001b[39m\u001b[38;5;132;01m{\u001b[39;00muser\u001b[38;5;241m.\u001b[39mid\u001b[38;5;132;01m}\u001b[39;00m\u001b[38;5;124m\"\u001b[39m)\n",
      "\u001b[1;32m      3\u001b[0m \u001b[38;5;28mprint\u001b[39m(\u001b[38;5;124mf\u001b[39m\u001b[38;5;124m\"\u001b[39m\u001b[38;5;124musername: \u001b[39m\u001b[38;5;132;01m{\u001b[39;00muser\u001b[38;5;241m.\u001b[39musername\u001b[38;5;132;01m}\u001b[39;00m\u001b[38;5;124m\"\u001b[39m)\n",
      "\n",
      "File \u001b[0;32m~/Desktop/PROD/sales-predict/.venv/lib/python3.11/site-packages/mlflow/server/auth/client.py:121\u001b[0m, in \u001b[0;36mAuthServiceClient.get_user\u001b[0;34m(self, username)\u001b[0m\n",
      "\u001b[1;32m     81\u001b[0m \u001b[38;5;28;01mdef\u001b[39;00m\u001b[38;5;250m \u001b[39m\u001b[38;5;21mget_user\u001b[39m(\u001b[38;5;28mself\u001b[39m, username: \u001b[38;5;28mstr\u001b[39m):\n",
      "\u001b[1;32m     82\u001b[0m \u001b[38;5;250m    \u001b[39m\u001b[38;5;124;03m\"\"\"\u001b[39;00m\n",
      "\u001b[1;32m     83\u001b[0m \u001b[38;5;124;03m    Get a user with a specific username.\u001b[39;00m\n",
      "\u001b[1;32m     84\u001b[0m \n",
      "\u001b[0;32m   (...)\u001b[0m\n",
      "\u001b[1;32m    119\u001b[0m \u001b[38;5;124;03m        is_admin: False\u001b[39;00m\n",
      "\u001b[1;32m    120\u001b[0m \u001b[38;5;124;03m    \"\"\"\u001b[39;00m\n",
      "\u001b[0;32m--> 121\u001b[0m     resp \u001b[38;5;241m=\u001b[39m \u001b[38;5;28;43mself\u001b[39;49m\u001b[38;5;241;43m.\u001b[39;49m\u001b[43m_request\u001b[49m\u001b[43m(\u001b[49m\n",
      "\u001b[1;32m    122\u001b[0m \u001b[43m        \u001b[49m\u001b[43mGET_USER\u001b[49m\u001b[43m,\u001b[49m\n",
      "\u001b[1;32m    123\u001b[0m \u001b[43m        \u001b[49m\u001b[38;5;124;43m\"\u001b[39;49m\u001b[38;5;124;43mGET\u001b[39;49m\u001b[38;5;124;43m\"\u001b[39;49m\u001b[43m,\u001b[49m\n",
      "\u001b[1;32m    124\u001b[0m \u001b[43m        \u001b[49m\u001b[43mparams\u001b[49m\u001b[38;5;241;43m=\u001b[39;49m\u001b[43m{\u001b[49m\u001b[38;5;124;43m\"\u001b[39;49m\u001b[38;5;124;43musername\u001b[39;49m\u001b[38;5;124;43m\"\u001b[39;49m\u001b[43m:\u001b[49m\u001b[43m \u001b[49m\u001b[43musername\u001b[49m\u001b[43m}\u001b[49m\u001b[43m,\u001b[49m\n",
      "\u001b[1;32m    125\u001b[0m \u001b[43m    \u001b[49m\u001b[43m)\u001b[49m\n",
      "\u001b[1;32m    126\u001b[0m     \u001b[38;5;28;01mreturn\u001b[39;00m User\u001b[38;5;241m.\u001b[39mfrom_json(resp[\u001b[38;5;124m\"\u001b[39m\u001b[38;5;124muser\u001b[39m\u001b[38;5;124m\"\u001b[39m])\n",
      "\n",
      "File \u001b[0;32m~/Desktop/PROD/sales-predict/.venv/lib/python3.11/site-packages/mlflow/server/auth/client.py:37\u001b[0m, in \u001b[0;36mAuthServiceClient._request\u001b[0;34m(self, endpoint, method, **kwargs)\u001b[0m\n",
      "\u001b[1;32m     35\u001b[0m \u001b[38;5;28;01mdef\u001b[39;00m\u001b[38;5;250m \u001b[39m\u001b[38;5;21m_request\u001b[39m(\u001b[38;5;28mself\u001b[39m, endpoint, method, \u001b[38;5;241m*\u001b[39m\u001b[38;5;241m*\u001b[39mkwargs):\n",
      "\u001b[1;32m     36\u001b[0m     host_creds \u001b[38;5;241m=\u001b[39m get_default_host_creds(\u001b[38;5;28mself\u001b[39m\u001b[38;5;241m.\u001b[39mtracking_uri)\n",
      "\u001b[0;32m---> 37\u001b[0m     resp \u001b[38;5;241m=\u001b[39m \u001b[43mhttp_request_safe\u001b[49m\u001b[43m(\u001b[49m\u001b[43mhost_creds\u001b[49m\u001b[43m,\u001b[49m\u001b[43m \u001b[49m\u001b[43mendpoint\u001b[49m\u001b[43m,\u001b[49m\u001b[43m \u001b[49m\u001b[43mmethod\u001b[49m\u001b[43m,\u001b[49m\u001b[43m \u001b[49m\u001b[38;5;241;43m*\u001b[39;49m\u001b[38;5;241;43m*\u001b[39;49m\u001b[43mkwargs\u001b[49m\u001b[43m)\u001b[49m\n",
      "\u001b[1;32m     38\u001b[0m     \u001b[38;5;28;01mreturn\u001b[39;00m resp\u001b[38;5;241m.\u001b[39mjson()\n",
      "\n",
      "File \u001b[0;32m~/Desktop/PROD/sales-predict/.venv/lib/python3.11/site-packages/mlflow/utils/rest_utils.py:236\u001b[0m, in \u001b[0;36mhttp_request_safe\u001b[0;34m(host_creds, endpoint, method, **kwargs)\u001b[0m\n",
      "\u001b[1;32m    232\u001b[0m \u001b[38;5;250m\u001b[39m\u001b[38;5;124;03m\"\"\"\u001b[39;00m\n",
      "\u001b[1;32m    233\u001b[0m \u001b[38;5;124;03mWrapper around ``http_request`` that also verifies that the request succeeds with code 200.\u001b[39;00m\n",
      "\u001b[1;32m    234\u001b[0m \u001b[38;5;124;03m\"\"\"\u001b[39;00m\n",
      "\u001b[1;32m    235\u001b[0m response \u001b[38;5;241m=\u001b[39m http_request(host_creds\u001b[38;5;241m=\u001b[39mhost_creds, endpoint\u001b[38;5;241m=\u001b[39mendpoint, method\u001b[38;5;241m=\u001b[39mmethod, \u001b[38;5;241m*\u001b[39m\u001b[38;5;241m*\u001b[39mkwargs)\n",
      "\u001b[0;32m--> 236\u001b[0m \u001b[38;5;28;01mreturn\u001b[39;00m \u001b[43mverify_rest_response\u001b[49m\u001b[43m(\u001b[49m\u001b[43mresponse\u001b[49m\u001b[43m,\u001b[49m\u001b[43m \u001b[49m\u001b[43mendpoint\u001b[49m\u001b[43m)\u001b[49m\n",
      "\n",
      "File \u001b[0;32m~/Desktop/PROD/sales-predict/.venv/lib/python3.11/site-packages/mlflow/utils/rest_utils.py:255\u001b[0m, in \u001b[0;36mverify_rest_response\u001b[0;34m(response, endpoint)\u001b[0m\n",
      "\u001b[1;32m    250\u001b[0m     \u001b[38;5;28;01melse\u001b[39;00m:\n",
      "\u001b[1;32m    251\u001b[0m         base_msg \u001b[38;5;241m=\u001b[39m (\n",
      "\u001b[1;32m    252\u001b[0m             \u001b[38;5;124mf\u001b[39m\u001b[38;5;124m\"\u001b[39m\u001b[38;5;124mAPI request to endpoint \u001b[39m\u001b[38;5;132;01m{\u001b[39;00mendpoint\u001b[38;5;132;01m}\u001b[39;00m\u001b[38;5;124m \u001b[39m\u001b[38;5;124m\"\u001b[39m\n",
      "\u001b[1;32m    253\u001b[0m             \u001b[38;5;124mf\u001b[39m\u001b[38;5;124m\"\u001b[39m\u001b[38;5;124mfailed with error code \u001b[39m\u001b[38;5;132;01m{\u001b[39;00mresponse\u001b[38;5;241m.\u001b[39mstatus_code\u001b[38;5;132;01m}\u001b[39;00m\u001b[38;5;124m != 200\u001b[39m\u001b[38;5;124m\"\u001b[39m\n",
      "\u001b[1;32m    254\u001b[0m         )\n",
      "\u001b[0;32m--> 255\u001b[0m         \u001b[38;5;28;01mraise\u001b[39;00m MlflowException(\n",
      "\u001b[1;32m    256\u001b[0m             \u001b[38;5;124mf\u001b[39m\u001b[38;5;124m\"\u001b[39m\u001b[38;5;132;01m{\u001b[39;00mbase_msg\u001b[38;5;132;01m}\u001b[39;00m\u001b[38;5;124m. Response body: \u001b[39m\u001b[38;5;124m'\u001b[39m\u001b[38;5;132;01m{\u001b[39;00mresponse\u001b[38;5;241m.\u001b[39mtext\u001b[38;5;132;01m}\u001b[39;00m\u001b[38;5;124m'\u001b[39m\u001b[38;5;124m\"\u001b[39m,\n",
      "\u001b[1;32m    257\u001b[0m             error_code\u001b[38;5;241m=\u001b[39mget_error_code(response\u001b[38;5;241m.\u001b[39mstatus_code),\n",
      "\u001b[1;32m    258\u001b[0m         )\n",
      "\u001b[1;32m    260\u001b[0m \u001b[38;5;66;03m# Skip validation for endpoints (e.g. DBFS file-download API) which may return a non-JSON\u001b[39;00m\n",
      "\u001b[1;32m    261\u001b[0m \u001b[38;5;66;03m# response\u001b[39;00m\n",
      "\u001b[1;32m    262\u001b[0m \u001b[38;5;28;01mif\u001b[39;00m endpoint\u001b[38;5;241m.\u001b[39mstartswith(_REST_API_PATH_PREFIX) \u001b[38;5;129;01mand\u001b[39;00m \u001b[38;5;129;01mnot\u001b[39;00m _can_parse_as_json_object(response\u001b[38;5;241m.\u001b[39mtext):\n",
      "\n",
      "\u001b[0;31mMlflowException\u001b[0m: API request to endpoint /api/2.0/mlflow/users/get failed with error code 404 != 200. Response body: '<!doctype html>\n",
      "<html lang=en>\n",
      "<title>404 Not Found</title>\n",
      "<h1>Not Found</h1>\n",
      "<p>The requested URL was not found on the server. If you entered the URL manually please check your spelling and try again.</p>\n",
      "'"
     ]
    }
   ],
   "source": [
    "user = client.get_user(\"admin\")\n",
    "print(f\"user_id: {user.id}\")\n",
    "print(f\"username: {user.username}\")\n",
    "print(f\"password_hash: {user.password_hash}\")\n",
    "print(f\"is_admin: {user.is_admin}\")"
   ]
  },
  {
   "cell_type": "markdown",
   "metadata": {},
   "source": [
    "## Администрирование MLFlow"
   ]
  },
  {
   "cell_type": "code",
   "execution_count": 3,
   "metadata": {},
   "outputs": [],
   "source": [
    "client = AuthServiceClient(os.getenv(\"MLFLOW_TRACKING_URI\"))"
   ]
  },
  {
   "cell_type": "code",
   "execution_count": 11,
   "metadata": {},
   "outputs": [
    {
     "data": {
      "text/plain": [
       "<mlflow.server.auth.entities.ExperimentPermission at 0x10410aa90>"
      ]
     },
     "execution_count": 11,
     "metadata": {},
     "output_type": "execute_result"
    }
   ],
   "source": [
    "client.create_experiment_permission(\n",
    "    experiment_id=\"1\",\n",
    "    username=\"qwer\",\n",
    "    permission=\"EDIT\"\n",
    ")"
   ]
  },
  {
   "cell_type": "code",
   "execution_count": null,
   "metadata": {},
   "outputs": [
    {
     "data": {
      "text/plain": [
       "<mlflow.server.auth.entities.User at 0x296048750>"
      ]
     },
     "metadata": {},
     "output_type": "display_data"
    }
   ],
   "source": [
    "# Создание нового пользователя\n",
    "client.create_user(\"newuser\", \"newpassword\")\n",
    "\n",
    "# Удаление пользователя (возможно только после удаления всех доступов)\n",
    "client.delete_user(\"newuser\")\n",
    "\n",
    "# Обновление пароля\n",
    "client.update_user_password(\"admin\", \"testpass\")\n",
    "\n",
    "# Создать привелегии\n",
    "client.create_experiment_permission(\n",
    "    experiment_id=\"1\",\n",
    "    username=\"newuser\",\n",
    "    permission=\"EDIT\" # READ / MANAGE https://mlflow.org/docs/latest/auth/index.html#how-it-works\n",
    ")\n",
    "\n",
    "# Обновить привелегии\n",
    "client.update_experiment_permission(\n",
    "    experiment_id=\"1\",\n",
    "    username=\"newuser\",\n",
    "    permission=\"MANAGE\"\n",
    ")\n",
    "\n",
    "# Отозвать привелегии\n",
    "client.delete_experiment_permission(\n",
    "    experiment_id=\"1\",\n",
    "    username=\"newuser\"\n",
    ")\n",
    "\n",
    "# Админские права\n",
    "client.update_user_admin(\n",
    "    username=\"newuser\",\n",
    "    is_admin=True\n",
    ")"
   ]
  },
  {
   "cell_type": "code",
   "execution_count": 5,
   "metadata": {},
   "outputs": [
    {
     "name": "stdout",
     "output_type": "stream",
     "text": [
      "user_id: 4\n",
      "username: newuser\n",
      "password_hash: REDACTED\n",
      "is_admin: False\n"
     ]
    }
   ],
   "source": [
    "user = client.get_user(\"newuser\")\n",
    "print(f\"user_id: {user.id}\")\n",
    "print(f\"username: {user.username}\")\n",
    "print(f\"password_hash: {user.password_hash}\")\n",
    "print(f\"is_admin: {user.is_admin}\")"
   ]
  },
  {
   "cell_type": "code",
   "execution_count": 6,
   "metadata": {},
   "outputs": [
    {
     "ename": "RestException",
     "evalue": "RESOURCE_DOES_NOT_EXIST: Experiment permission with experiment_id=1 and username=newuser not found",
     "output_type": "error",
     "traceback": [
      "\u001b[0;31m---------------------------------------------------------------------------\u001b[0m",
      "\u001b[0;31mRestException\u001b[0m                             Traceback (most recent call last)",
      "Cell \u001b[0;32mIn[6], line 1\u001b[0m\n\u001b[0;32m----> 1\u001b[0m ep \u001b[38;5;241m=\u001b[39m \u001b[43mclient\u001b[49m\u001b[38;5;241;43m.\u001b[39;49m\u001b[43mget_experiment_permission\u001b[49m\u001b[43m(\u001b[49m\u001b[38;5;124;43m\"\u001b[39;49m\u001b[38;5;124;43m1\u001b[39;49m\u001b[38;5;124;43m\"\u001b[39;49m\u001b[43m,\u001b[49m\u001b[43m \u001b[49m\u001b[38;5;124;43m\"\u001b[39;49m\u001b[38;5;124;43mnewuser\u001b[39;49m\u001b[38;5;124;43m\"\u001b[39;49m\u001b[43m)\u001b[49m\n\u001b[1;32m      2\u001b[0m \u001b[38;5;28mprint\u001b[39m(\u001b[38;5;124mf\u001b[39m\u001b[38;5;124m\"\u001b[39m\u001b[38;5;124mexperiment_id: \u001b[39m\u001b[38;5;132;01m{\u001b[39;00mep\u001b[38;5;241m.\u001b[39mexperiment_id\u001b[38;5;132;01m}\u001b[39;00m\u001b[38;5;124m\"\u001b[39m)\n\u001b[1;32m      3\u001b[0m \u001b[38;5;28mprint\u001b[39m(\u001b[38;5;124mf\u001b[39m\u001b[38;5;124m\"\u001b[39m\u001b[38;5;124muser_id: \u001b[39m\u001b[38;5;132;01m{\u001b[39;00mep\u001b[38;5;241m.\u001b[39muser_id\u001b[38;5;132;01m}\u001b[39;00m\u001b[38;5;124m\"\u001b[39m)\n",
      "File \u001b[0;32m~/Desktop/mlflow_keyclock/.venv/lib/python3.11/site-packages/mlflow/server/auth/client.py:315\u001b[0m, in \u001b[0;36mAuthServiceClient.get_experiment_permission\u001b[0;34m(self, experiment_id, username)\u001b[0m\n\u001b[1;32m    273\u001b[0m \u001b[38;5;28;01mdef\u001b[39;00m\u001b[38;5;250m \u001b[39m\u001b[38;5;21mget_experiment_permission\u001b[39m(\u001b[38;5;28mself\u001b[39m, experiment_id: \u001b[38;5;28mstr\u001b[39m, username: \u001b[38;5;28mstr\u001b[39m):\n\u001b[1;32m    274\u001b[0m \u001b[38;5;250m    \u001b[39m\u001b[38;5;124;03m\"\"\"\u001b[39;00m\n\u001b[1;32m    275\u001b[0m \u001b[38;5;124;03m    Get an experiment permission for a user.\u001b[39;00m\n\u001b[1;32m    276\u001b[0m \n\u001b[0;32m   (...)\u001b[0m\n\u001b[1;32m    313\u001b[0m \u001b[38;5;124;03m        permission: READ\u001b[39;00m\n\u001b[1;32m    314\u001b[0m \u001b[38;5;124;03m    \"\"\"\u001b[39;00m\n\u001b[0;32m--> 315\u001b[0m     resp \u001b[38;5;241m=\u001b[39m \u001b[38;5;28;43mself\u001b[39;49m\u001b[38;5;241;43m.\u001b[39;49m\u001b[43m_request\u001b[49m\u001b[43m(\u001b[49m\n\u001b[1;32m    316\u001b[0m \u001b[43m        \u001b[49m\u001b[43mGET_EXPERIMENT_PERMISSION\u001b[49m\u001b[43m,\u001b[49m\n\u001b[1;32m    317\u001b[0m \u001b[43m        \u001b[49m\u001b[38;5;124;43m\"\u001b[39;49m\u001b[38;5;124;43mGET\u001b[39;49m\u001b[38;5;124;43m\"\u001b[39;49m\u001b[43m,\u001b[49m\n\u001b[1;32m    318\u001b[0m \u001b[43m        \u001b[49m\u001b[43mparams\u001b[49m\u001b[38;5;241;43m=\u001b[39;49m\u001b[43m{\u001b[49m\u001b[38;5;124;43m\"\u001b[39;49m\u001b[38;5;124;43mexperiment_id\u001b[39;49m\u001b[38;5;124;43m\"\u001b[39;49m\u001b[43m:\u001b[49m\u001b[43m \u001b[49m\u001b[43mexperiment_id\u001b[49m\u001b[43m,\u001b[49m\u001b[43m \u001b[49m\u001b[38;5;124;43m\"\u001b[39;49m\u001b[38;5;124;43musername\u001b[39;49m\u001b[38;5;124;43m\"\u001b[39;49m\u001b[43m:\u001b[49m\u001b[43m \u001b[49m\u001b[43musername\u001b[49m\u001b[43m}\u001b[49m\u001b[43m,\u001b[49m\n\u001b[1;32m    319\u001b[0m \u001b[43m    \u001b[49m\u001b[43m)\u001b[49m\n\u001b[1;32m    320\u001b[0m     \u001b[38;5;28;01mreturn\u001b[39;00m ExperimentPermission\u001b[38;5;241m.\u001b[39mfrom_json(resp[\u001b[38;5;124m\"\u001b[39m\u001b[38;5;124mexperiment_permission\u001b[39m\u001b[38;5;124m\"\u001b[39m])\n",
      "File \u001b[0;32m~/Desktop/mlflow_keyclock/.venv/lib/python3.11/site-packages/mlflow/server/auth/client.py:37\u001b[0m, in \u001b[0;36mAuthServiceClient._request\u001b[0;34m(self, endpoint, method, **kwargs)\u001b[0m\n\u001b[1;32m     35\u001b[0m \u001b[38;5;28;01mdef\u001b[39;00m\u001b[38;5;250m \u001b[39m\u001b[38;5;21m_request\u001b[39m(\u001b[38;5;28mself\u001b[39m, endpoint, method, \u001b[38;5;241m*\u001b[39m\u001b[38;5;241m*\u001b[39mkwargs):\n\u001b[1;32m     36\u001b[0m     host_creds \u001b[38;5;241m=\u001b[39m get_default_host_creds(\u001b[38;5;28mself\u001b[39m\u001b[38;5;241m.\u001b[39mtracking_uri)\n\u001b[0;32m---> 37\u001b[0m     resp \u001b[38;5;241m=\u001b[39m \u001b[43mhttp_request_safe\u001b[49m\u001b[43m(\u001b[49m\u001b[43mhost_creds\u001b[49m\u001b[43m,\u001b[49m\u001b[43m \u001b[49m\u001b[43mendpoint\u001b[49m\u001b[43m,\u001b[49m\u001b[43m \u001b[49m\u001b[43mmethod\u001b[49m\u001b[43m,\u001b[49m\u001b[43m \u001b[49m\u001b[38;5;241;43m*\u001b[39;49m\u001b[38;5;241;43m*\u001b[39;49m\u001b[43mkwargs\u001b[49m\u001b[43m)\u001b[49m\n\u001b[1;32m     38\u001b[0m     \u001b[38;5;28;01mreturn\u001b[39;00m resp\u001b[38;5;241m.\u001b[39mjson()\n",
      "File \u001b[0;32m~/Desktop/mlflow_keyclock/.venv/lib/python3.11/site-packages/mlflow/utils/rest_utils.py:227\u001b[0m, in \u001b[0;36mhttp_request_safe\u001b[0;34m(host_creds, endpoint, method, **kwargs)\u001b[0m\n\u001b[1;32m    223\u001b[0m \u001b[38;5;250m\u001b[39m\u001b[38;5;124;03m\"\"\"\u001b[39;00m\n\u001b[1;32m    224\u001b[0m \u001b[38;5;124;03mWrapper around ``http_request`` that also verifies that the request succeeds with code 200.\u001b[39;00m\n\u001b[1;32m    225\u001b[0m \u001b[38;5;124;03m\"\"\"\u001b[39;00m\n\u001b[1;32m    226\u001b[0m response \u001b[38;5;241m=\u001b[39m http_request(host_creds\u001b[38;5;241m=\u001b[39mhost_creds, endpoint\u001b[38;5;241m=\u001b[39mendpoint, method\u001b[38;5;241m=\u001b[39mmethod, \u001b[38;5;241m*\u001b[39m\u001b[38;5;241m*\u001b[39mkwargs)\n\u001b[0;32m--> 227\u001b[0m \u001b[38;5;28;01mreturn\u001b[39;00m \u001b[43mverify_rest_response\u001b[49m\u001b[43m(\u001b[49m\u001b[43mresponse\u001b[49m\u001b[43m,\u001b[49m\u001b[43m \u001b[49m\u001b[43mendpoint\u001b[49m\u001b[43m)\u001b[49m\n",
      "File \u001b[0;32m~/Desktop/mlflow_keyclock/.venv/lib/python3.11/site-packages/mlflow/utils/rest_utils.py:240\u001b[0m, in \u001b[0;36mverify_rest_response\u001b[0;34m(response, endpoint)\u001b[0m\n\u001b[1;32m    238\u001b[0m \u001b[38;5;28;01mif\u001b[39;00m response\u001b[38;5;241m.\u001b[39mstatus_code \u001b[38;5;241m!=\u001b[39m \u001b[38;5;241m200\u001b[39m:\n\u001b[1;32m    239\u001b[0m     \u001b[38;5;28;01mif\u001b[39;00m _can_parse_as_json_object(response\u001b[38;5;241m.\u001b[39mtext):\n\u001b[0;32m--> 240\u001b[0m         \u001b[38;5;28;01mraise\u001b[39;00m RestException(json\u001b[38;5;241m.\u001b[39mloads(response\u001b[38;5;241m.\u001b[39mtext))\n\u001b[1;32m    241\u001b[0m     \u001b[38;5;28;01melse\u001b[39;00m:\n\u001b[1;32m    242\u001b[0m         base_msg \u001b[38;5;241m=\u001b[39m (\n\u001b[1;32m    243\u001b[0m             \u001b[38;5;124mf\u001b[39m\u001b[38;5;124m\"\u001b[39m\u001b[38;5;124mAPI request to endpoint \u001b[39m\u001b[38;5;132;01m{\u001b[39;00mendpoint\u001b[38;5;132;01m}\u001b[39;00m\u001b[38;5;124m \u001b[39m\u001b[38;5;124m\"\u001b[39m\n\u001b[1;32m    244\u001b[0m             \u001b[38;5;124mf\u001b[39m\u001b[38;5;124m\"\u001b[39m\u001b[38;5;124mfailed with error code \u001b[39m\u001b[38;5;132;01m{\u001b[39;00mresponse\u001b[38;5;241m.\u001b[39mstatus_code\u001b[38;5;132;01m}\u001b[39;00m\u001b[38;5;124m != 200\u001b[39m\u001b[38;5;124m\"\u001b[39m\n\u001b[1;32m    245\u001b[0m         )\n",
      "\u001b[0;31mRestException\u001b[0m: RESOURCE_DOES_NOT_EXIST: Experiment permission with experiment_id=1 and username=newuser not found"
     ]
    }
   ],
   "source": [
    "ep = client.get_experiment_permission(\"1\", \"newuser\")\n",
    "print(f\"experiment_id: {ep.experiment_id}\")\n",
    "print(f\"user_id: {ep.user_id}\")\n",
    "print(f\"permission: {ep.permission}\")"
   ]
  }
 ],
 "metadata": {
  "kernelspec": {
   "display_name": "3.11",
   "language": "python",
   "name": "python3"
  },
  "language_info": {
   "codemirror_mode": {
    "name": "ipython",
    "version": 3
   },
   "file_extension": ".py",
   "mimetype": "text/x-python",
   "name": "python",
   "nbconvert_exporter": "python",
   "pygments_lexer": "ipython3",
   "version": "3.11.10"
  }
 },
 "nbformat": 4,
 "nbformat_minor": 2
}
