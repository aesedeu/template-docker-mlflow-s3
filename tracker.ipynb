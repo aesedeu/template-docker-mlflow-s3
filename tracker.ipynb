{
 "cells": [
  {
   "cell_type": "code",
   "execution_count": 1,
   "metadata": {},
   "outputs": [],
   "source": [
    "import pandas as pd\n",
    "import numpy as np\n",
    "import os\n",
    "from sklearn.linear_model import LogisticRegression\n",
    "from sklearn.metrics import accuracy_score, log_loss, roc_auc_score\n",
    "from sklearn.preprocessing import StandardScaler\n",
    "import matplotlib.pyplot as plt\n",
    "\n",
    "import mlflow\n",
    "from mlflow.models import infer_signature\n",
    "\n",
    "from dotenv import load_dotenv\n",
    "\n",
    "import yaml\n",
    "import boto3\n",
    "import pickle\n",
    "import warnings\n",
    "import datetime as dt\n",
    "\n",
    "load_dotenv()\n",
    "warnings.filterwarnings('ignore')\n",
    "\n",
    "os.environ['AWS_ACCESS_KEY_ID'] = \"admin\" # логин s3\n",
    "os.environ['AWS_SECRET_ACCESS_KEY'] = \"23wesdxc\" # пароль s3\n",
    "os.environ['MLFLOW_S3_ENDPOINT_URL'] = \"http://localhost:9000\" # адрес s3\n",
    "os.environ['MLFLOW_TRACKING_USERNAME'] = \"admin\" # логин MLFlow\n",
    "os.environ['MLFLOW_TRACKING_PASSWORD'] = \"23wesdxc\" # пароль MLFlow \n",
    "os.environ['MLFLOW_TRACKING_URI'] = \"http://localhost:8080\" # адрес MLFlow \n",
    "\n",
    "# Подключение к MLFlow\n",
    "mlflow.set_tracking_uri(uri=os.getenv(\"MLFLOW_TRACKING_URI\"))\n",
    "\n",
    "# # Подключение к s3\n",
    "# session = boto3.session.Session()\n",
    "# s3 = session.client(\n",
    "#     service_name='s3',\n",
    "#     endpoint_url=os.environ['MLFLOW_S3_ENDPOINT_URL']\n",
    "# )\n",
    "\n",
    "config = yaml.safe_load(open(\"./config.yaml\"))"
   ]
  },
  {
   "cell_type": "markdown",
   "metadata": {},
   "source": [
    "Data preprocess"
   ]
  },
  {
   "cell_type": "code",
   "execution_count": 2,
   "metadata": {},
   "outputs": [],
   "source": [
    "dfs = pd.read_csv('data/apple_quality.csv')\n",
    "dfs.dropna(inplace=True)\n",
    "dfs.Quality = dfs.Quality.apply(lambda x: 1 if x == 'good' else 0)\n",
    "dfs.rename(columns={'Quality':'Class'}, inplace=True)\n",
    "\n",
    "df = dfs.copy()\n",
    "df = df.sample(3000)\n",
    "y = df['Class']\n",
    "X = df.drop(columns='Class')\n",
    "\n",
    "scaler = StandardScaler()\n",
    "X = scaler.fit_transform(X)\n",
    "\n",
    "params = config['train']"
   ]
  },
  {
   "cell_type": "markdown",
   "metadata": {},
   "source": [
    "Tracking params"
   ]
  },
  {
   "cell_type": "code",
   "execution_count": 3,
   "metadata": {},
   "outputs": [
    {
     "name": "stderr",
     "output_type": "stream",
     "text": [
      "2025/01/23 15:46:10 INFO mlflow.tracking.fluent: Experiment with name 'exp3' does not exist. Creating a new experiment.\n"
     ]
    }
   ],
   "source": [
    "# Выбираем эксперимент в котором будем работать\n",
    "experiment_name = 'exp3'\n",
    "bucket_name = 'mlflow-bucket' # Имя бакета, куда будут складиваться артефакты\n",
    "\n",
    "mlflow.set_experiment(\n",
    "    experiment_name=experiment_name\n",
    ")\n",
    "\n",
    "# Параметры версионирования\n",
    "registered_model_name = experiment_name + \"_model\"\n",
    "MODEL_DESCR = 'some desc'\n",
    "TRAINING_INFO = \"Basic LR model for apples data\"\n",
    "USER_NAME = os.getenv('MLFLOW_TRACKING_USERNAME')\n",
    "CURRENT_FILENAME = 'tracker.ipynb'\n",
    "TAGS = {\n",
    "    \"Training Info\": TRAINING_INFO,\n",
    "    'mlflow.user': USER_NAME,\n",
    "    'mlflow.source.name': CURRENT_FILENAME\n",
    "\n",
    "}"
   ]
  },
  {
   "cell_type": "code",
   "execution_count": 4,
   "metadata": {},
   "outputs": [
    {
     "name": "stderr",
     "output_type": "stream",
     "text": [
      "2025/01/23 15:46:12 WARNING mlflow.system_metrics.system_metrics_monitor: Skip logging GPU metrics because creating `GPUMonitor` failed with error: Failed to initialize NVML, skip logging GPU metrics: NVML Shared Library Not Found.\n",
      "2025/01/23 15:46:12 INFO mlflow.system_metrics.system_metrics_monitor: Started monitoring system metrics.\n",
      "Successfully registered model 'exp3_model'.\n",
      "2025/01/23 15:46:16 INFO mlflow.store.model_registry.abstract_store: Waiting up to 300 seconds for model version to finish creation. Model name: exp3_model, version 1\n",
      "Created version '1' of model 'exp3_model'.\n"
     ]
    },
    {
     "name": "stdout",
     "output_type": "stream",
     "text": [
      "Model has been saved to: 's3://mlflow-bucket/1/cab99e052c9c4f15b4beec5521880641/artifacts/model'\n",
      "🏃 View run delightful-jay-109 at: http://localhost:8080/#/experiments/1/runs/cab99e052c9c4f15b4beec5521880641\n",
      "🧪 View experiment at: http://localhost:8080/#/experiments/1\n"
     ]
    },
    {
     "name": "stderr",
     "output_type": "stream",
     "text": [
      "2025/01/23 15:46:17 INFO mlflow.system_metrics.system_metrics_monitor: Stopping system metrics monitoring...\n",
      "2025/01/23 15:46:17 INFO mlflow.system_metrics.system_metrics_monitor: Successfully terminated system metrics monitoring!\n"
     ]
    }
   ],
   "source": [
    "# Запуск обучения\n",
    "with mlflow.start_run(\n",
    "        # experiment_id=1,\n",
    "        # run_name = \"exp_run\", # Если не указывать, то будет сгенерировано рандомное имя\n",
    "        tags=TAGS,\n",
    "        description='Some description',\n",
    "        log_system_metrics=True\n",
    "    ) as run:\n",
    "    try:\n",
    "        # Обучение модели\n",
    "        log_regr = LogisticRegression(**params)\n",
    "        log_regr.fit(X, y)\n",
    "        y_pred_proba = log_regr.predict_proba(X)[:,1]\n",
    "        y_pred = log_regr.predict(X)\n",
    "\n",
    "        # Логируем гиперпараметры\n",
    "        mlflow.log_params(params)\n",
    "\n",
    "        # Логируем метрики модели\n",
    "        mlflow.log_metric(\"accuracy\", accuracy_score(df['Class'], y_pred))\n",
    "        mlflow.log_metric(\"accuracy_2\", accuracy_score(df['Class'], y_pred))\n",
    "        mlflow.log_metric(\"logloss\", log_loss(df['Class'], y_pred_proba))\n",
    "        mlflow.log_metric(\"rocauc\", roc_auc_score(df['Class'], y_pred_proba))\n",
    "\n",
    "        # Пушим данные в бакет\n",
    "        model_info = mlflow.sklearn.log_model(\n",
    "            sk_model=log_regr,\n",
    "            artifact_path=\"model\", # оставляем так, чтобы сохранялась модель в бакете в папку 'model'\n",
    "            signature=infer_signature(X, log_regr.predict(X)),\n",
    "            input_example=X,\n",
    "            registered_model_name=registered_model_name\n",
    "        )\n",
    "\n",
    "        # Фиксируем что модель принимает на вход и выдает на выходе\n",
    "        mlflow.log_input(\n",
    "            mlflow.data.from_pandas(df, source=\"where_you_took_the_data\"),\n",
    "            context='training'\n",
    "        )\n",
    "\n",
    "        # Получаем инфо о модели\n",
    "        model_info = mlflow.models.get_model_info(mlflow.get_artifact_uri() + \"/model\")\n",
    "\n",
    "        print(f\"Model has been saved to: '{model_info.model_uri}'\")\n",
    "    except Exception as e:\n",
    "        print(e)\n",
    "    finally:\n",
    "        mlflow.end_run()"
   ]
  },
  {
   "cell_type": "code",
   "execution_count": 5,
   "metadata": {},
   "outputs": [
    {
     "data": {
      "text/html": [
       "<div>\n",
       "<style scoped>\n",
       "    .dataframe tbody tr th:only-of-type {\n",
       "        vertical-align: middle;\n",
       "    }\n",
       "\n",
       "    .dataframe tbody tr th {\n",
       "        vertical-align: top;\n",
       "    }\n",
       "\n",
       "    .dataframe thead th {\n",
       "        text-align: right;\n",
       "    }\n",
       "</style>\n",
       "<table border=\"1\" class=\"dataframe\">\n",
       "  <thead>\n",
       "    <tr style=\"text-align: right;\">\n",
       "      <th></th>\n",
       "      <th>run_id</th>\n",
       "      <th>experiment_id</th>\n",
       "      <th>status</th>\n",
       "      <th>artifact_uri</th>\n",
       "      <th>start_time</th>\n",
       "      <th>end_time</th>\n",
       "      <th>metrics.logloss</th>\n",
       "      <th>metrics.accuracy_2</th>\n",
       "      <th>metrics.rocauc</th>\n",
       "      <th>metrics.accuracy</th>\n",
       "      <th>params.solver</th>\n",
       "      <th>params.max_iter</th>\n",
       "      <th>tags.Training Info</th>\n",
       "      <th>tags.mlflow.note.content</th>\n",
       "      <th>tags.mlflow.user</th>\n",
       "      <th>tags.mlflow.log-model.history</th>\n",
       "      <th>tags.mlflow.source.name</th>\n",
       "      <th>tags.mlflow.source.type</th>\n",
       "      <th>tags.mlflow.runName</th>\n",
       "    </tr>\n",
       "  </thead>\n",
       "  <tbody>\n",
       "    <tr>\n",
       "      <th>0</th>\n",
       "      <td>cab99e052c9c4f15b4beec5521880641</td>\n",
       "      <td>1</td>\n",
       "      <td>FINISHED</td>\n",
       "      <td>s3://mlflow-bucket/1/cab99e052c9c4f15b4beec552...</td>\n",
       "      <td>2025-01-23 12:46:12.302000+00:00</td>\n",
       "      <td>2025-01-23 12:46:17.013000+00:00</td>\n",
       "      <td>0.506705</td>\n",
       "      <td>0.754333</td>\n",
       "      <td>0.829947</td>\n",
       "      <td>0.754333</td>\n",
       "      <td>lbfgs</td>\n",
       "      <td>1000</td>\n",
       "      <td>Basic LR model for apples data</td>\n",
       "      <td>Some description</td>\n",
       "      <td>admin</td>\n",
       "      <td>[{\"run_id\": \"cab99e052c9c4f15b4beec5521880641\"...</td>\n",
       "      <td>tracker.ipynb</td>\n",
       "      <td>LOCAL</td>\n",
       "      <td>delightful-jay-109</td>\n",
       "    </tr>\n",
       "  </tbody>\n",
       "</table>\n",
       "</div>"
      ],
      "text/plain": [
       "                             run_id experiment_id    status  \\\n",
       "0  cab99e052c9c4f15b4beec5521880641             1  FINISHED   \n",
       "\n",
       "                                        artifact_uri  \\\n",
       "0  s3://mlflow-bucket/1/cab99e052c9c4f15b4beec552...   \n",
       "\n",
       "                        start_time                         end_time  \\\n",
       "0 2025-01-23 12:46:12.302000+00:00 2025-01-23 12:46:17.013000+00:00   \n",
       "\n",
       "   metrics.logloss  metrics.accuracy_2  metrics.rocauc  metrics.accuracy  \\\n",
       "0         0.506705            0.754333        0.829947          0.754333   \n",
       "\n",
       "  params.solver params.max_iter              tags.Training Info  \\\n",
       "0         lbfgs            1000  Basic LR model for apples data   \n",
       "\n",
       "  tags.mlflow.note.content tags.mlflow.user  \\\n",
       "0         Some description            admin   \n",
       "\n",
       "                       tags.mlflow.log-model.history tags.mlflow.source.name  \\\n",
       "0  [{\"run_id\": \"cab99e052c9c4f15b4beec5521880641\"...           tracker.ipynb   \n",
       "\n",
       "  tags.mlflow.source.type tags.mlflow.runName  \n",
       "0                   LOCAL  delightful-jay-109  "
      ]
     },
     "execution_count": 5,
     "metadata": {},
     "output_type": "execute_result"
    }
   ],
   "source": [
    "# Показать запуски\n",
    "mlflow.search_runs(\n",
    "    experiment_names=[experiment_name]\n",
    ")"
   ]
  },
  {
   "cell_type": "code",
   "execution_count": 18,
   "metadata": {},
   "outputs": [],
   "source": [
    "# # # Инфо по конкертному id запуска\n",
    "# mlflow.get_run('68e58f39743a4d899ec475617f083dae')"
   ]
  }
 ],
 "metadata": {
  "kernelspec": {
   "display_name": ".venv",
   "language": "python",
   "name": "python3"
  },
  "language_info": {
   "codemirror_mode": {
    "name": "ipython",
    "version": 3
   },
   "file_extension": ".py",
   "mimetype": "text/x-python",
   "name": "python",
   "nbconvert_exporter": "python",
   "pygments_lexer": "ipython3",
   "version": "3.11.10"
  }
 },
 "nbformat": 4,
 "nbformat_minor": 2
}
